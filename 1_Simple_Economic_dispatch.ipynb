{
    "cells": [
        {
            "cell_type": "markdown",
            "source": [
                "## Economic Dispatch of three generators\r\n",
                "### This features one time period, three generators, single cost (srmc)\r\n",
                "### Author: Joseph Nunez\r\n",
                "### based on code from https://jump.dev/JuMP.jl/stable/tutorials/Mixed-integer%20linear%20programs/power_systems/\r\n"
            ],
            "metadata": {}
        },
        {
            "cell_type": "code",
            "execution_count": 1,
            "source": [
                "using JuMP, GLPK, LinearAlgebra"
            ],
            "outputs": [],
            "metadata": {}
        },
        {
            "cell_type": "code",
            "execution_count": 10,
            "source": [
                "\r\n",
                "#Data for optimisation\r\n",
                "\r\n",
                "#max capacity\r\n",
                "duid = [\"gas\", \"coal\", \"wind\"]\r\n",
                "\r\n",
                "max_gen = [1000, 1000, 200];\r\n",
                "\r\n",
                "#minimum power \r\n",
                "min_gen = [0, 300, 0];\r\n",
                "\r\n",
                "#cost \r\n",
                "cost_gen = [50, 100, 50];\r\n",
                "\r\n",
                "#Total demand\r\n",
                "demand = 1500;"
            ],
            "outputs": [],
            "metadata": {}
        },
        {
            "cell_type": "code",
            "execution_count": 18,
            "source": [
                "#this is the optimisation\r\n",
                "econ_dispatch = Model(GLPK.Optimizer)\r\n",
                "\r\n",
                "@variable(econ_dispatch, 0 <= dispatch[i = 1:3] <= max_gen[i]);\r\n",
                "\r\n",
                "@objective(econ_dispatch, Min, dot(cost_gen, dispatch));\r\n",
                "\r\n",
                "@constraint(econ_dispatch, supply_demand, sum(dispatch) == demand);\r\n",
                "\r\n",
                "optimize!(econ_dispatch);\r\n",
                "\r\n",
                "println(\"Results \\n\")\r\n",
                "\r\n",
                "for i in 1:3\r\n",
                "    println(\"Dispatch of \", duid[i],\" is \", value.(dispatch)[i], \" MW\")\r\n",
                "\r\n",
                "end\r\n",
                "\r\n",
                "println(\"\\n\")\r\n",
                "println(\"Price is \\$ \", dual(supply_demand), \" per MWh\")"
            ],
            "outputs": [
                {
                    "output_type": "stream",
                    "name": "stdout",
                    "text": [
                        "Results \n",
                        "\n",
                        "Dispatch of gas is 1000.0 MW\n",
                        "Dispatch of coal is 300.0 MW\n",
                        "Dispatch of wind is 200.0 MW\n",
                        "\n",
                        "\n",
                        "Price is $ 100.0 per MWh\n"
                    ]
                }
            ],
            "metadata": {}
        }
    ],
    "metadata": {
        "orig_nbformat": 4,
        "language_info": {
            "name": "plaintext"
        }
    },
    "nbformat": 4,
    "nbformat_minor": 2
}